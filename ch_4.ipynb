{
 "cells": [
  {
   "cell_type": "code",
   "execution_count": null,
   "metadata": {
    "colab": {},
    "colab_type": "code",
    "id": "OwFmulBOgY9_"
   },
   "outputs": [],
   "source": [
    "%matplotlib inline\n",
    "\n",
    "import numpy as np\n",
    "import torch\n",
    "import imageio\n",
    "import os\n",
    "import pandas as pd\n",
    "import matplotlib.pyplot as plt\n",
    "import csv\n",
    "os.chdir(\"/content/drive/My Drive/PyTorch/pytorch_start/\")\n"
   ]
  },
  {
   "cell_type": "code",
   "execution_count": null,
   "metadata": {
    "colab": {
     "base_uri": "https://localhost:8080/",
     "height": 34
    },
    "colab_type": "code",
    "executionInfo": {
     "elapsed": 4141,
     "status": "ok",
     "timestamp": 1597686220490,
     "user": {
      "displayName": "Adhish Aggarwal",
      "photoUrl": "",
      "userId": "17665034220905964527"
     },
     "user_tz": -330
    },
    "id": "1HHCyEsSggl_",
    "outputId": "74c52c3a-2e70-4992-b907-26036879526e"
   },
   "outputs": [
    {
     "data": {
      "text/plain": [
       "(720, 1280, 3)"
      ]
     },
     "execution_count": 17,
     "metadata": {
      "tags": []
     },
     "output_type": "execute_result"
    }
   ],
   "source": [
    "img_arr = imageio.imread(\"data/p1ch4/image-dog/bobby.jpg\")\n",
    "\n",
    "## height, width, channel (h,w,c)\n",
    "img_arr.shape\n"
   ]
  },
  {
   "cell_type": "code",
   "execution_count": null,
   "metadata": {
    "colab": {
     "base_uri": "https://localhost:8080/",
     "height": 34
    },
    "colab_type": "code",
    "executionInfo": {
     "elapsed": 2031,
     "status": "ok",
     "timestamp": 1597686220491,
     "user": {
      "displayName": "Adhish Aggarwal",
      "photoUrl": "",
      "userId": "17665034220905964527"
     },
     "user_tz": -330
    },
    "id": "UsY9zowugjUA",
    "outputId": "33736b0c-3c6f-49df-f454-663d9dd6b81b"
   },
   "outputs": [
    {
     "name": "stdout",
     "output_type": "stream",
     "text": [
      "torch.Size([3, 720, 1280])\n"
     ]
    }
   ],
   "source": [
    "# Changing the layout\n",
    "img = torch.from_numpy(img_arr)\n",
    "\n",
    "# This will change (h,w,c) -> (c,h,w)\n",
    "out = img.permute(2,0,1)\n",
    "print(out.shape)\n"
   ]
  },
  {
   "cell_type": "code",
   "execution_count": null,
   "metadata": {
    "colab": {},
    "colab_type": "code",
    "id": "12neWMTrH-v5"
   },
   "outputs": [],
   "source": [
    "# Pre allocating a tensor\n",
    "batch_size = 4\n",
    "batch = torch.zeros(batch_size, 3, 256, 256, dtype=torch.uint8)\n",
    "\n",
    "data_dir = \"data/p1ch4/image-cats/\"\n",
    "file_names = os.listdir(data_dir)\n",
    "\n",
    "for i, filename in enumerate(file_names):\n",
    "  img_arr = imageio.imread(data_dir + filename)\n",
    "  img_t = torch.from_numpy(img_arr)\n",
    "  img_t = img_t.permute(2,0,1)\n",
    "  img_t = img_t[:3]\n",
    "  batch[i] = img_t\n"
   ]
  },
  {
   "cell_type": "markdown",
   "metadata": {
    "colab_type": "text",
    "id": "X8Yv_cVgN_5x"
   },
   "source": [
    "### NORMALIZATION\n"
   ]
  },
  {
   "cell_type": "code",
   "execution_count": null,
   "metadata": {
    "colab": {},
    "colab_type": "code",
    "id": "mhY8QeM0KNgX"
   },
   "outputs": [],
   "source": [
    "# Divide by the highest pixel\n",
    "# It will normailze from 0,1\n",
    "batch_ = batch.float().clone()\n",
    "batch_ /= 255.0\n"
   ]
  },
  {
   "cell_type": "code",
   "execution_count": null,
   "metadata": {
    "colab": {},
    "colab_type": "code",
    "id": "ghG50yaihXMb"
   },
   "outputs": [],
   "source": [
    "n_channels = batch.shape[1]\n",
    "batch_ = batch.float().clone()\n",
    "\n"
   ]
  },
  {
   "cell_type": "code",
   "execution_count": null,
   "metadata": {
    "colab": {
     "base_uri": "https://localhost:8080/",
     "height": 34
    },
    "colab_type": "code",
    "executionInfo": {
     "elapsed": 1252,
     "status": "ok",
     "timestamp": 1597686331199,
     "user": {
      "displayName": "Adhish Aggarwal",
      "photoUrl": "",
      "userId": "17665034220905964527"
     },
     "user_tz": -330
    },
    "id": "1Xaoz76QhYnW",
    "outputId": "81d30e54-6022-494b-d747-0586f5ed11aa"
   },
   "outputs": [
    {
     "data": {
      "text/plain": [
       "torch.Size([4, 256, 256])"
      ]
     },
     "execution_count": 24,
     "metadata": {
      "tags": []
     },
     "output_type": "execute_result"
    }
   ],
   "source": [
    "(batch_[:,0]).shape\n",
    "\n",
    "\n"
   ]
  },
  {
   "cell_type": "code",
   "execution_count": null,
   "metadata": {
    "colab": {
     "base_uri": "https://localhost:8080/",
     "height": 198
    },
    "colab_type": "code",
    "executionInfo": {
     "elapsed": 4262,
     "status": "error",
     "timestamp": 1597572955366,
     "user": {
      "displayName": "Adhish Aggarwal",
      "photoUrl": "",
      "userId": "17665034220905964527"
     },
     "user_tz": -330
    },
    "id": "Yo0leLdgKNm9",
    "outputId": "9c184cb1-eebf-4e4d-9cfd-d1e7d27d1aa1"
   },
   "outputs": [
    {
     "ename": "NameError",
     "evalue": "ignored",
     "output_type": "error",
     "traceback": [
      "\u001b[0;31m---------------------------------------------------------------------------\u001b[0m",
      "\u001b[0;31mNameError\u001b[0m                                 Traceback (most recent call last)",
      "\u001b[0;32m<ipython-input-6-07f9524cbe63>\u001b[0m in \u001b[0;36m<module>\u001b[0;34m()\u001b[0m\n\u001b[1;32m      6\u001b[0m   \u001b[0mmean\u001b[0m \u001b[0;34m=\u001b[0m \u001b[0mtorch\u001b[0m\u001b[0;34m.\u001b[0m\u001b[0mmean\u001b[0m\u001b[0;34m(\u001b[0m\u001b[0mbatch_\u001b[0m\u001b[0;34m[\u001b[0m\u001b[0;34m:\u001b[0m\u001b[0;34m,\u001b[0m\u001b[0mc\u001b[0m\u001b[0;34m]\u001b[0m\u001b[0;34m)\u001b[0m\u001b[0;34m\u001b[0m\u001b[0;34m\u001b[0m\u001b[0m\n\u001b[1;32m      7\u001b[0m   \u001b[0mstd\u001b[0m \u001b[0;34m=\u001b[0m \u001b[0mtorch\u001b[0m\u001b[0;34m.\u001b[0m\u001b[0mstd\u001b[0m\u001b[0;34m(\u001b[0m\u001b[0mbatch_\u001b[0m\u001b[0;34m[\u001b[0m\u001b[0;34m:\u001b[0m\u001b[0;34m,\u001b[0m\u001b[0mc\u001b[0m\u001b[0;34m]\u001b[0m\u001b[0;34m)\u001b[0m\u001b[0;34m\u001b[0m\u001b[0;34m\u001b[0m\u001b[0m\n\u001b[0;32m----> 8\u001b[0;31m   \u001b[0mbatch\u001b[0m\u001b[0;34m[\u001b[0m\u001b[0;34m:\u001b[0m\u001b[0;34m,\u001b[0m \u001b[0mc\u001b[0m\u001b[0;34m]\u001b[0m \u001b[0;34m=\u001b[0m \u001b[0;34m(\u001b[0m\u001b[0mbatch_\u001b[0m\u001b[0;34m[\u001b[0m\u001b[0;34m:\u001b[0m\u001b[0;34m,\u001b[0m \u001b[0mc\u001b[0m\u001b[0;34m]\u001b[0m \u001b[0;34m-\u001b[0m \u001b[0mmean\u001b[0m\u001b[0;34m)\u001b[0m \u001b[0;34m/\u001b[0m \u001b[0ms\u001b[0m\u001b[0;34m\u001b[0m\u001b[0;34m\u001b[0m\u001b[0m\n\u001b[0m",
      "\u001b[0;31mNameError\u001b[0m: name 's' is not defined"
     ]
    }
   ],
   "source": [
    "# Using mean and standard deviation\n",
    "n_channels = batch.shape[1]\n",
    "batch_ = batch.float().clone()\n",
    "\n",
    "for c in range(n_channels):\n",
    "  mean = torch.mean(batch_[:,c])\n",
    "  std = torch.std(batch_[:,c])\n",
    "  batch[:, c] = (batch_[:, c] - mean) / std\n"
   ]
  },
  {
   "cell_type": "markdown",
   "metadata": {
    "colab_type": "text",
    "id": "-Rgjv6Z4Td81"
   },
   "source": [
    "### CT SCAN IMAGE\n",
    "\n",
    "99 2D images stock on top of each other with no channel information"
   ]
  },
  {
   "cell_type": "code",
   "execution_count": null,
   "metadata": {
    "colab": {
     "base_uri": "https://localhost:8080/",
     "height": 85
    },
    "colab_type": "code",
    "executionInfo": {
     "elapsed": 46860,
     "status": "ok",
     "timestamp": 1597573015691,
     "user": {
      "displayName": "Adhish Aggarwal",
      "photoUrl": "",
      "userId": "17665034220905964527"
     },
     "user_tz": -330
    },
    "id": "ac0T9WB4QyJw",
    "outputId": "d086428e-4d86-446e-a83e-a27aa0a41e35"
   },
   "outputs": [
    {
     "name": "stdout",
     "output_type": "stream",
     "text": [
      "Reading DICOM (examining files): 1/99 files (1.0%2/99 files (2.0%3/99 files (3.0%4/99 files (4.0%5/99 files (5.1%6/99 files (6.1%7/99 files (7.1%8/99 files (8.1%9/99 files (9.1%10/99 files (10.1%11/99 files (11.1%12/99 files (12.1%13/99 files (13.1%14/99 files (14.1%15/99 files (15.2%16/99 files (16.2%17/99 files (17.2%18/99 files (18.2%19/99 files (19.2%20/99 files (20.2%21/99 files (21.2%22/99 files (22.2%23/99 files (23.2%24/99 files (24.2%25/99 files (25.3%26/99 files (26.3%27/99 files (27.3%28/99 files (28.3%29/99 files (29.3%30/99 files (30.3%31/99 files (31.3%32/99 files (32.3%33/99 files (33.3%34/99 files (34.3%35/99 files (35.4%36/99 files (36.4%37/99 files (37.4%38/99 files (38.4%39/99 files (39.4%40/99 files (40.4%41/99 files (41.4%42/99 files (42.4%43/99 files (43.4%44/99 files (44.4%45/99 files (45.5%46/99 files (46.5%47/99 files (47.5%48/99 files (48.5%49/99 files (49.5%50/99 files (50.5%51/99 files (51.5%52/99 files (52.5%53/99 files (53.5%54/99 files (54.5%55/99 files (55.6%56/99 files (56.6%57/99 files (57.6%58/99 files (58.6%59/99 files (59.6%60/99 files (60.6%61/99 files (61.6%62/99 files (62.6%63/99 files (63.6%64/99 files (64.6%65/99 files (65.7%66/99 files (66.7%67/99 files (67.7%68/99 files (68.7%69/99 files (69.7%70/99 files (70.7%71/99 files (71.7%72/99 files (72.7%73/99 files (73.7%74/99 files (74.7%75/99 files (75.8%76/99 files (76.8%77/99 files (77.8%78/99 files (78.8%79/99 files (79.8%80/99 files (80.8%81/99 files (81.8%82/99 files (82.8%83/99 files (83.8%84/99 files (84.8%85/99 files (85.9%86/99 files (86.9%87/99 files (87.9%88/99 files (88.9%89/99 files (89.9%90/99 files (90.9%91/99 files (91.9%92/99 files (92.9%93/99 files (93.9%94/99 files (94.9%95/99 files (96.0%96/99 files (97.0%97/99 files (98.0%98/99 files (99.0%99/99 files (100.099/99 files (100.0%)\n",
      "  Found 1 correct series.\n",
      "Reading DICOM (loading data): 9/99  (9.134/99  (34.363/99  (63.690/99  (90.999/99  (100.0%)\n",
      "(99, 512, 512)\n"
     ]
    }
   ],
   "source": [
    "dir_path = \"data/p1ch4/volumetric-dicom/2-LUNG 3.0  B70f-04083\"\n",
    "vol_arr = imageio.volread(dir_path, format='DICOM')\n",
    "print(vol_arr.shape)\n"
   ]
  },
  {
   "cell_type": "code",
   "execution_count": null,
   "metadata": {
    "colab": {
     "base_uri": "https://localhost:8080/",
     "height": 34
    },
    "colab_type": "code",
    "executionInfo": {
     "elapsed": 46569,
     "status": "ok",
     "timestamp": 1597573015692,
     "user": {
      "displayName": "Adhish Aggarwal",
      "photoUrl": "",
      "userId": "17665034220905964527"
     },
     "user_tz": -330
    },
    "id": "pzrf5rO6Q3SH",
    "outputId": "4cda5659-90d2-43dd-f1c1-eb5422b47668"
   },
   "outputs": [
    {
     "data": {
      "text/plain": [
       "torch.Size([1, 99, 512, 512])"
      ]
     },
     "execution_count": 8,
     "metadata": {
      "tags": []
     },
     "output_type": "execute_result"
    }
   ],
   "source": [
    "# Since there is no channel information, we will have to unsqueeze to add it\n",
    "vol = torch.from_numpy(vol_arr).float()\n",
    "vol = torch.unsqueeze(vol, 0)\n",
    "vol.shape\n"
   ]
  },
  {
   "cell_type": "code",
   "execution_count": null,
   "metadata": {
    "colab": {
     "base_uri": "https://localhost:8080/",
     "height": 286
    },
    "colab_type": "code",
    "executionInfo": {
     "elapsed": 47079,
     "status": "ok",
     "timestamp": 1597573016574,
     "user": {
      "displayName": "Adhish Aggarwal",
      "photoUrl": "",
      "userId": "17665034220905964527"
     },
     "user_tz": -330
    },
    "id": "Ma_iVO0DQ3Vd",
    "outputId": "dcc3d678-1c66-4a01-cfed-9a0390f2616b"
   },
   "outputs": [
    {
     "data": {
      "text/plain": [
       "<matplotlib.image.AxesImage at 0x7f0540c04240>"
      ]
     },
     "execution_count": 9,
     "metadata": {
      "tags": []
     },
     "output_type": "execute_result"
    },
    {
     "data": {
      "image/png": "[encoded data removed]",
      "text/plain": [
       "<Figure size 432x288 with 1 Axes>"
      ]
     },
     "metadata": {
      "needs_background": "light",
      "tags": []
     },
     "output_type": "display_data"
    }
   ],
   "source": [
    "plt.imshow(vol_arr[44])\n"
   ]
  },
  {
   "cell_type": "markdown",
   "metadata": {
    "colab_type": "text",
    "id": "Scq238Z8yo2g"
   },
   "source": [
    "### WINE DATASET PANDAS"
   ]
  },
  {
   "cell_type": "code",
   "execution_count": null,
   "metadata": {
    "colab": {
     "base_uri": "https://localhost:8080/",
     "height": 238
    },
    "colab_type": "code",
    "executionInfo": {
     "elapsed": 1162,
     "status": "ok",
     "timestamp": 1597573550926,
     "user": {
      "displayName": "Adhish Aggarwal",
      "photoUrl": "",
      "userId": "17665034220905964527"
     },
     "user_tz": -330
    },
    "id": "B-tH_xZ-Q3Xx",
    "outputId": "7f762f68-64d5-4f7a-bc73-a884e8083bda"
   },
   "outputs": [
    {
     "data": {
      "text/html": [
       "<div>\n",
       "<style scoped>\n",
       "    .dataframe tbody tr th:only-of-type {\n",
       "        vertical-align: middle;\n",
       "    }\n",
       "\n",
       "    .dataframe tbody tr th {\n",
       "        vertical-align: top;\n",
       "    }\n",
       "\n",
       "    .dataframe thead th {\n",
       "        text-align: right;\n",
       "    }\n",
       "</style>\n",
       "<table border=\"1\" class=\"dataframe\">\n",
       "  <thead>\n",
       "    <tr style=\"text-align: right;\">\n",
       "      <th></th>\n",
       "      <th>fixed acidity</th>\n",
       "      <th>volatile acidity</th>\n",
       "      <th>citric acid</th>\n",
       "      <th>residual sugar</th>\n",
       "      <th>chlorides</th>\n",
       "      <th>free sulfur dioxide</th>\n",
       "      <th>total sulfur dioxide</th>\n",
       "      <th>density</th>\n",
       "      <th>pH</th>\n",
       "      <th>sulphates</th>\n",
       "      <th>alcohol</th>\n",
       "      <th>quality</th>\n",
       "    </tr>\n",
       "  </thead>\n",
       "  <tbody>\n",
       "    <tr>\n",
       "      <th>0</th>\n",
       "      <td>7.0</td>\n",
       "      <td>0.27</td>\n",
       "      <td>0.36</td>\n",
       "      <td>20.7</td>\n",
       "      <td>0.045</td>\n",
       "      <td>45.0</td>\n",
       "      <td>170.0</td>\n",
       "      <td>1.0010</td>\n",
       "      <td>3.00</td>\n",
       "      <td>0.45</td>\n",
       "      <td>8.8</td>\n",
       "      <td>6</td>\n",
       "    </tr>\n",
       "    <tr>\n",
       "      <th>1</th>\n",
       "      <td>6.3</td>\n",
       "      <td>0.30</td>\n",
       "      <td>0.34</td>\n",
       "      <td>1.6</td>\n",
       "      <td>0.049</td>\n",
       "      <td>14.0</td>\n",
       "      <td>132.0</td>\n",
       "      <td>0.9940</td>\n",
       "      <td>3.30</td>\n",
       "      <td>0.49</td>\n",
       "      <td>9.5</td>\n",
       "      <td>6</td>\n",
       "    </tr>\n",
       "    <tr>\n",
       "      <th>2</th>\n",
       "      <td>8.1</td>\n",
       "      <td>0.28</td>\n",
       "      <td>0.40</td>\n",
       "      <td>6.9</td>\n",
       "      <td>0.050</td>\n",
       "      <td>30.0</td>\n",
       "      <td>97.0</td>\n",
       "      <td>0.9951</td>\n",
       "      <td>3.26</td>\n",
       "      <td>0.44</td>\n",
       "      <td>10.1</td>\n",
       "      <td>6</td>\n",
       "    </tr>\n",
       "    <tr>\n",
       "      <th>3</th>\n",
       "      <td>7.2</td>\n",
       "      <td>0.23</td>\n",
       "      <td>0.32</td>\n",
       "      <td>8.5</td>\n",
       "      <td>0.058</td>\n",
       "      <td>47.0</td>\n",
       "      <td>186.0</td>\n",
       "      <td>0.9956</td>\n",
       "      <td>3.19</td>\n",
       "      <td>0.40</td>\n",
       "      <td>9.9</td>\n",
       "      <td>6</td>\n",
       "    </tr>\n",
       "    <tr>\n",
       "      <th>4</th>\n",
       "      <td>7.2</td>\n",
       "      <td>0.23</td>\n",
       "      <td>0.32</td>\n",
       "      <td>8.5</td>\n",
       "      <td>0.058</td>\n",
       "      <td>47.0</td>\n",
       "      <td>186.0</td>\n",
       "      <td>0.9956</td>\n",
       "      <td>3.19</td>\n",
       "      <td>0.40</td>\n",
       "      <td>9.9</td>\n",
       "      <td>6</td>\n",
       "    </tr>\n",
       "  </tbody>\n",
       "</table>\n",
       "</div>"
      ],
      "text/plain": [
       "   fixed acidity  volatile acidity  citric acid  ...  sulphates  alcohol  quality\n",
       "0            7.0              0.27         0.36  ...       0.45      8.8        6\n",
       "1            6.3              0.30         0.34  ...       0.49      9.5        6\n",
       "2            8.1              0.28         0.40  ...       0.44     10.1        6\n",
       "3            7.2              0.23         0.32  ...       0.40      9.9        6\n",
       "4            7.2              0.23         0.32  ...       0.40      9.9        6\n",
       "\n",
       "[5 rows x 12 columns]"
      ]
     },
     "execution_count": 20,
     "metadata": {
      "tags": []
     },
     "output_type": "execute_result"
    }
   ],
   "source": [
    "wine_df = pd.read_csv(\"data/p1ch4/tabular-wine/winequality-white.csv\", delimiter=\";\")\n",
    "wine_df.head()\n"
   ]
  },
  {
   "cell_type": "code",
   "execution_count": null,
   "metadata": {
    "colab": {
     "base_uri": "https://localhost:8080/",
     "height": 238
    },
    "colab_type": "code",
    "executionInfo": {
     "elapsed": 983,
     "status": "ok",
     "timestamp": 1597573877283,
     "user": {
      "displayName": "Adhish Aggarwal",
      "photoUrl": "",
      "userId": "17665034220905964527"
     },
     "user_tz": -330
    },
    "id": "HcXu7YTKxQRy",
    "outputId": "dc3691cb-96fa-499b-c5b1-81432a2197ee"
   },
   "outputs": [
    {
     "data": {
      "text/plain": [
       "fixed acidity             6.854788\n",
       "volatile acidity          0.278241\n",
       "citric acid               0.334192\n",
       "residual sugar            6.391415\n",
       "chlorides                 0.045772\n",
       "free sulfur dioxide      35.308085\n",
       "total sulfur dioxide    138.360657\n",
       "density                   0.994027\n",
       "pH                        3.188267\n",
       "sulphates                 0.489847\n",
       "alcohol                  10.514267\n",
       "quality                   5.877909\n",
       "dtype: float64"
      ]
     },
     "execution_count": 27,
     "metadata": {
      "tags": []
     },
     "output_type": "execute_result"
    }
   ],
   "source": [
    "wine_df.mean()"
   ]
  },
  {
   "cell_type": "markdown",
   "metadata": {
    "colab_type": "text",
    "id": "7C0e2PKw1P5v"
   },
   "source": [
    "### READING WITH NUMPY\n"
   ]
  },
  {
   "cell_type": "code",
   "execution_count": null,
   "metadata": {
    "colab": {},
    "colab_type": "code",
    "id": "zra2eCxVxQPO"
   },
   "outputs": [],
   "source": [
    "wine_path = \"data/p1ch4/tabular-wine/winequality-white.csv\"\n",
    "wineq_numpy = np.loadtxt(wine_path, dtype=np.float32, delimiter=\";\", skiprows=1)\n"
   ]
  },
  {
   "cell_type": "code",
   "execution_count": null,
   "metadata": {
    "colab": {
     "base_uri": "https://localhost:8080/",
     "height": 238
    },
    "colab_type": "code",
    "executionInfo": {
     "elapsed": 2418,
     "status": "ok",
     "timestamp": 1597668319852,
     "user": {
      "displayName": "Adhish Aggarwal",
      "photoUrl": "",
      "userId": "17665034220905964527"
     },
     "user_tz": -330
    },
    "id": "Glb5VmoW2tsS",
    "outputId": "e2167a51-73d9-4a32-8898-e7738ad76dc3"
   },
   "outputs": [
    {
     "data": {
      "text/plain": [
       "((4898, 12),\n",
       " ['fixed acidity',\n",
       "  'volatile acidity',\n",
       "  'citric acid',\n",
       "  'residual sugar',\n",
       "  'chlorides',\n",
       "  'free sulfur dioxide',\n",
       "  'total sulfur dioxide',\n",
       "  'density',\n",
       "  'pH',\n",
       "  'sulphates',\n",
       "  'alcohol',\n",
       "  'quality'])"
      ]
     },
     "execution_count": 3,
     "metadata": {
      "tags": []
     },
     "output_type": "execute_result"
    }
   ],
   "source": [
    "col_list = next(csv.reader(open(wine_path), delimiter=\";\"))\n",
    "wineq_numpy.shape, col_list\n"
   ]
  },
  {
   "cell_type": "code",
   "execution_count": null,
   "metadata": {
    "colab": {
     "base_uri": "https://localhost:8080/",
     "height": 34
    },
    "colab_type": "code",
    "executionInfo": {
     "elapsed": 1684,
     "status": "ok",
     "timestamp": 1597668319853,
     "user": {
      "displayName": "Adhish Aggarwal",
      "photoUrl": "",
      "userId": "17665034220905964527"
     },
     "user_tz": -330
    },
    "id": "ERptZlUp2vMx",
    "outputId": "8e5e95eb-b4c5-4613-c7b1-3884a6061530"
   },
   "outputs": [
    {
     "data": {
      "text/plain": [
       "(torch.Size([4898, 12]), torch.float32)"
      ]
     },
     "execution_count": 4,
     "metadata": {
      "tags": []
     },
     "output_type": "execute_result"
    }
   ],
   "source": [
    "wineq = torch.from_numpy(wineq_numpy)\n",
    "wineq.shape, wineq.dtype\n"
   ]
  },
  {
   "cell_type": "code",
   "execution_count": null,
   "metadata": {
    "colab": {
     "base_uri": "https://localhost:8080/",
     "height": 153
    },
    "colab_type": "code",
    "executionInfo": {
     "elapsed": 989,
     "status": "ok",
     "timestamp": 1597668319855,
     "user": {
      "displayName": "Adhish Aggarwal",
      "photoUrl": "",
      "userId": "17665034220905964527"
     },
     "user_tz": -330
    },
    "id": "xeO6UjCU3ROC",
    "outputId": "a05a3375-23fc-40e3-ed35-4b2c04893f07"
   },
   "outputs": [
    {
     "data": {
      "text/plain": [
       "(tensor([[ 7.0000,  0.2700,  0.3600,  ...,  3.0000,  0.4500,  8.8000],\n",
       "         [ 6.3000,  0.3000,  0.3400,  ...,  3.3000,  0.4900,  9.5000],\n",
       "         [ 8.1000,  0.2800,  0.4000,  ...,  3.2600,  0.4400, 10.1000],\n",
       "         ...,\n",
       "         [ 6.5000,  0.2400,  0.1900,  ...,  2.9900,  0.4600,  9.4000],\n",
       "         [ 5.5000,  0.2900,  0.3000,  ...,  3.3400,  0.3800, 12.8000],\n",
       "         [ 6.0000,  0.2100,  0.3800,  ...,  3.2600,  0.3200, 11.8000]]),\n",
       " torch.Size([4898, 11]))"
      ]
     },
     "execution_count": 5,
     "metadata": {
      "tags": []
     },
     "output_type": "execute_result"
    }
   ],
   "source": [
    "data = wineq[:, :-1] # All the input data\n",
    "data, data.shape\n"
   ]
  },
  {
   "cell_type": "code",
   "execution_count": null,
   "metadata": {
    "colab": {
     "base_uri": "https://localhost:8080/",
     "height": 34
    },
    "colab_type": "code",
    "executionInfo": {
     "elapsed": 1061,
     "status": "ok",
     "timestamp": 1597668326353,
     "user": {
      "displayName": "Adhish Aggarwal",
      "photoUrl": "",
      "userId": "17665034220905964527"
     },
     "user_tz": -330
    },
    "id": "RfVIDnos3RmV",
    "outputId": "ebe7f2a9-fac2-482b-d9b7-97c22f9547a1"
   },
   "outputs": [
    {
     "data": {
      "text/plain": [
       "(tensor([6., 6., 6.,  ..., 6., 7., 6.]), torch.Size([4898]))"
      ]
     },
     "execution_count": 7,
     "metadata": {
      "tags": []
     },
     "output_type": "execute_result"
    }
   ],
   "source": [
    "target = wineq[:, -1]\n",
    "target, target.shape\n"
   ]
  },
  {
   "cell_type": "markdown",
   "metadata": {
    "colab_type": "text",
    "id": "U-mDUNBXgQ-t"
   },
   "source": [
    "### TREATING THE **target** TENSOR AS CATEGORICAL"
   ]
  },
  {
   "cell_type": "code",
   "execution_count": null,
   "metadata": {
    "colab": {
     "base_uri": "https://localhost:8080/",
     "height": 34
    },
    "colab_type": "code",
    "executionInfo": {
     "elapsed": 984,
     "status": "ok",
     "timestamp": 1597668330533,
     "user": {
      "displayName": "Adhish Aggarwal",
      "photoUrl": "",
      "userId": "17665034220905964527"
     },
     "user_tz": -330
    },
    "id": "aLpKfO5k3Rr3",
    "outputId": "d3f50a8c-ead4-4fe4-eba8-4b8fbb45d05d"
   },
   "outputs": [
    {
     "data": {
      "text/plain": [
       "tensor([6, 6, 6,  ..., 6, 7, 6])"
      ]
     },
     "execution_count": 8,
     "metadata": {
      "tags": []
     },
     "output_type": "execute_result"
    }
   ],
   "source": [
    "target = wineq[:, -1].long()\n",
    "target\n"
   ]
  },
  {
   "cell_type": "markdown",
   "metadata": {
    "colab_type": "text",
    "id": "CA4q5wWgiSwA"
   },
   "source": [
    "### ONE HOT ENCODING"
   ]
  },
  {
   "cell_type": "code",
   "execution_count": null,
   "metadata": {
    "colab": {
     "base_uri": "https://localhost:8080/",
     "height": 136
    },
    "colab_type": "code",
    "executionInfo": {
     "elapsed": 950,
     "status": "ok",
     "timestamp": 1597668357158,
     "user": {
      "displayName": "Adhish Aggarwal",
      "photoUrl": "",
      "userId": "17665034220905964527"
     },
     "user_tz": -330
    },
    "id": "ytm8_TfL3Rve",
    "outputId": "15d17aa8-6021-4df9-fea0-3555fde21954"
   },
   "outputs": [
    {
     "data": {
      "text/plain": [
       "tensor([[0., 0., 0.,  ..., 0., 0., 0.],\n",
       "        [0., 0., 0.,  ..., 0., 0., 0.],\n",
       "        [0., 0., 0.,  ..., 0., 0., 0.],\n",
       "        ...,\n",
       "        [0., 0., 0.,  ..., 0., 0., 0.],\n",
       "        [0., 0., 0.,  ..., 1., 0., 0.],\n",
       "        [0., 0., 0.,  ..., 0., 0., 0.]])"
      ]
     },
     "execution_count": 9,
     "metadata": {
      "tags": []
     },
     "output_type": "execute_result"
    }
   ],
   "source": [
    "target_onehot = torch.zeros(target.shape[0], 10)\n",
    "target_onehot.scatter_(1, target.unsqueeze(1), 1.0)\n"
   ]
  },
  {
   "cell_type": "code",
   "execution_count": null,
   "metadata": {
    "colab": {},
    "colab_type": "code",
    "id": "hddE9PZD1KDt"
   },
   "outputs": [],
   "source": [
    "data_mean = torch.mean(data, dim=0)\n",
    "data_var = torch.var(data, dim=0)\n",
    "\n",
    "data_normalized = (data - data_mean)/torch.sqrt(data_var)\n"
   ]
  },
  {
   "cell_type": "markdown",
   "metadata": {
    "colab_type": "text",
    "id": "EYKeYBnTgGT3"
   },
   "source": [
    "### QUERYING IN PYTORCH"
   ]
  },
  {
   "cell_type": "code",
   "execution_count": null,
   "metadata": {
    "colab": {
     "base_uri": "https://localhost:8080/",
     "height": 34
    },
    "colab_type": "code",
    "executionInfo": {
     "elapsed": 963,
     "status": "ok",
     "timestamp": 1597669207643,
     "user": {
      "displayName": "Adhish Aggarwal",
      "photoUrl": "",
      "userId": "17665034220905964527"
     },
     "user_tz": -330
    },
    "id": "4LtQcb7q1KHa",
    "outputId": "2f34532c-ca48-4102-dcc4-d2122aea9a84"
   },
   "outputs": [
    {
     "data": {
      "text/plain": [
       "(torch.Size([4898]), torch.bool, tensor(20))"
      ]
     },
     "execution_count": 11,
     "metadata": {
      "tags": []
     },
     "output_type": "execute_result"
    }
   ],
   "source": [
    "indx = target <= 3\n",
    "indx.shape, indx.dtype, indx.sum()\n"
   ]
  },
  {
   "cell_type": "code",
   "execution_count": null,
   "metadata": {
    "colab": {
     "base_uri": "https://localhost:8080/",
     "height": 34
    },
    "colab_type": "code",
    "executionInfo": {
     "elapsed": 652,
     "status": "ok",
     "timestamp": 1597669240010,
     "user": {
      "displayName": "Adhish Aggarwal",
      "photoUrl": "",
      "userId": "17665034220905964527"
     },
     "user_tz": -330
    },
    "id": "LsN44E1z1KJ5",
    "outputId": "46f297ba-be33-4661-9e15-6eba8904f0f8"
   },
   "outputs": [
    {
     "data": {
      "text/plain": [
       "torch.Size([20, 11])"
      ]
     },
     "execution_count": 12,
     "metadata": {
      "tags": []
     },
     "output_type": "execute_result"
    }
   ],
   "source": [
    "indx_data = data[indx]\n",
    "indx_data.shape\n"
   ]
  },
  {
   "cell_type": "markdown",
   "metadata": {
    "colab_type": "text",
    "id": "yGMOD5pQiCEo"
   },
   "source": [
    "### TIME SERIES DATA\n"
   ]
  },
  {
   "cell_type": "code",
   "execution_count": null,
   "metadata": {
    "colab": {
     "base_uri": "https://localhost:8080/",
     "height": 309
    },
    "colab_type": "code",
    "executionInfo": {
     "elapsed": 648,
     "status": "ok",
     "timestamp": 1597670257904,
     "user": {
      "displayName": "Adhish Aggarwal",
      "photoUrl": "",
      "userId": "17665034220905964527"
     },
     "user_tz": -330
    },
    "id": "o7z9zZWjgem1",
    "outputId": "323636d1-ec56-4939-c221-e2c1f2727769"
   },
   "outputs": [
    {
     "data": {
      "text/html": [
       "<div>\n",
       "<style scoped>\n",
       "    .dataframe tbody tr th:only-of-type {\n",
       "        vertical-align: middle;\n",
       "    }\n",
       "\n",
       "    .dataframe tbody tr th {\n",
       "        vertical-align: top;\n",
       "    }\n",
       "\n",
       "    .dataframe thead th {\n",
       "        text-align: right;\n",
       "    }\n",
       "</style>\n",
       "<table border=\"1\" class=\"dataframe\">\n",
       "  <thead>\n",
       "    <tr style=\"text-align: right;\">\n",
       "      <th></th>\n",
       "      <th>instant</th>\n",
       "      <th>dteday</th>\n",
       "      <th>season</th>\n",
       "      <th>yr</th>\n",
       "      <th>mnth</th>\n",
       "      <th>hr</th>\n",
       "      <th>holiday</th>\n",
       "      <th>weekday</th>\n",
       "      <th>workingday</th>\n",
       "      <th>weathersit</th>\n",
       "      <th>temp</th>\n",
       "      <th>atemp</th>\n",
       "      <th>hum</th>\n",
       "      <th>windspeed</th>\n",
       "      <th>casual</th>\n",
       "      <th>registered</th>\n",
       "      <th>cnt</th>\n",
       "    </tr>\n",
       "  </thead>\n",
       "  <tbody>\n",
       "    <tr>\n",
       "      <th>0</th>\n",
       "      <td>1</td>\n",
       "      <td>2011-01-01</td>\n",
       "      <td>1</td>\n",
       "      <td>0</td>\n",
       "      <td>1</td>\n",
       "      <td>0</td>\n",
       "      <td>0</td>\n",
       "      <td>6</td>\n",
       "      <td>0</td>\n",
       "      <td>1</td>\n",
       "      <td>0.24</td>\n",
       "      <td>0.2879</td>\n",
       "      <td>0.81</td>\n",
       "      <td>0.0</td>\n",
       "      <td>3</td>\n",
       "      <td>13</td>\n",
       "      <td>16</td>\n",
       "    </tr>\n",
       "    <tr>\n",
       "      <th>1</th>\n",
       "      <td>2</td>\n",
       "      <td>2011-01-01</td>\n",
       "      <td>1</td>\n",
       "      <td>0</td>\n",
       "      <td>1</td>\n",
       "      <td>1</td>\n",
       "      <td>0</td>\n",
       "      <td>6</td>\n",
       "      <td>0</td>\n",
       "      <td>1</td>\n",
       "      <td>0.22</td>\n",
       "      <td>0.2727</td>\n",
       "      <td>0.80</td>\n",
       "      <td>0.0</td>\n",
       "      <td>8</td>\n",
       "      <td>32</td>\n",
       "      <td>40</td>\n",
       "    </tr>\n",
       "    <tr>\n",
       "      <th>2</th>\n",
       "      <td>3</td>\n",
       "      <td>2011-01-01</td>\n",
       "      <td>1</td>\n",
       "      <td>0</td>\n",
       "      <td>1</td>\n",
       "      <td>2</td>\n",
       "      <td>0</td>\n",
       "      <td>6</td>\n",
       "      <td>0</td>\n",
       "      <td>1</td>\n",
       "      <td>0.22</td>\n",
       "      <td>0.2727</td>\n",
       "      <td>0.80</td>\n",
       "      <td>0.0</td>\n",
       "      <td>5</td>\n",
       "      <td>27</td>\n",
       "      <td>32</td>\n",
       "    </tr>\n",
       "    <tr>\n",
       "      <th>3</th>\n",
       "      <td>4</td>\n",
       "      <td>2011-01-01</td>\n",
       "      <td>1</td>\n",
       "      <td>0</td>\n",
       "      <td>1</td>\n",
       "      <td>3</td>\n",
       "      <td>0</td>\n",
       "      <td>6</td>\n",
       "      <td>0</td>\n",
       "      <td>1</td>\n",
       "      <td>0.24</td>\n",
       "      <td>0.2879</td>\n",
       "      <td>0.75</td>\n",
       "      <td>0.0</td>\n",
       "      <td>3</td>\n",
       "      <td>10</td>\n",
       "      <td>13</td>\n",
       "    </tr>\n",
       "    <tr>\n",
       "      <th>4</th>\n",
       "      <td>5</td>\n",
       "      <td>2011-01-01</td>\n",
       "      <td>1</td>\n",
       "      <td>0</td>\n",
       "      <td>1</td>\n",
       "      <td>4</td>\n",
       "      <td>0</td>\n",
       "      <td>6</td>\n",
       "      <td>0</td>\n",
       "      <td>1</td>\n",
       "      <td>0.24</td>\n",
       "      <td>0.2879</td>\n",
       "      <td>0.75</td>\n",
       "      <td>0.0</td>\n",
       "      <td>0</td>\n",
       "      <td>1</td>\n",
       "      <td>1</td>\n",
       "    </tr>\n",
       "  </tbody>\n",
       "</table>\n",
       "</div>"
      ],
      "text/plain": [
       "   instant      dteday  season  yr  ...  windspeed  casual  registered  cnt\n",
       "0        1  2011-01-01       1   0  ...        0.0       3          13   16\n",
       "1        2  2011-01-01       1   0  ...        0.0       8          32   40\n",
       "2        3  2011-01-01       1   0  ...        0.0       5          27   32\n",
       "3        4  2011-01-01       1   0  ...        0.0       3          10   13\n",
       "4        5  2011-01-01       1   0  ...        0.0       0           1    1\n",
       "\n",
       "[5 rows x 17 columns]"
      ]
     },
     "execution_count": 19,
     "metadata": {
      "tags": []
     },
     "output_type": "execute_result"
    }
   ],
   "source": [
    "df_ts = pd.read_csv(\"data/p1ch4/bike-sharing-dataset/hour-fixed.csv\")\n",
    "df_ts.head()\n"
   ]
  },
  {
   "cell_type": "code",
   "execution_count": null,
   "metadata": {
    "colab": {
     "base_uri": "https://localhost:8080/",
     "height": 34
    },
    "colab_type": "code",
    "executionInfo": {
     "elapsed": 1093,
     "status": "ok",
     "timestamp": 1597670339294,
     "user": {
      "displayName": "Adhish Aggarwal",
      "photoUrl": "",
      "userId": "17665034220905964527"
     },
     "user_tz": -330
    },
    "id": "0tMUDyf6ko0k",
    "outputId": "2715d033-952f-42fc-a456-c28b2ea9111f"
   },
   "outputs": [
    {
     "data": {
      "text/plain": [
       "array([1, 2, 3, 4])"
      ]
     },
     "execution_count": 20,
     "metadata": {
      "tags": []
     },
     "output_type": "execute_result"
    }
   ],
   "source": [
    "df_ts.season.unique()"
   ]
  },
  {
   "cell_type": "code",
   "execution_count": null,
   "metadata": {
    "colab": {},
    "colab_type": "code",
    "id": "la8daC6lkC9q"
   },
   "outputs": [],
   "source": [
    "bikes_numpy = np.loadtxt(\"data/p1ch4/bike-sharing-dataset/hour-fixed.csv\", dtype=np.float32, \n",
    "                         delimiter=\",\", skiprows=1, converters={1: lambda x: float(x[8:10])})\n"
   ]
  },
  {
   "cell_type": "code",
   "execution_count": null,
   "metadata": {
    "colab": {
     "base_uri": "https://localhost:8080/",
     "height": 238
    },
    "colab_type": "code",
    "executionInfo": {
     "elapsed": 1029,
     "status": "ok",
     "timestamp": 1597670447316,
     "user": {
      "displayName": "Adhish Aggarwal",
      "photoUrl": "",
      "userId": "17665034220905964527"
     },
     "user_tz": -330
    },
    "id": "G2FfOrUAj34Q",
    "outputId": "76438a9d-f754-453f-c672-ac29626c2a48"
   },
   "outputs": [
    {
     "data": {
      "text/plain": [
       "tensor([[1.0000e+00, 1.0000e+00, 1.0000e+00,  ..., 3.0000e+00, 1.3000e+01,\n",
       "         1.6000e+01],\n",
       "        [2.0000e+00, 1.0000e+00, 1.0000e+00,  ..., 8.0000e+00, 3.2000e+01,\n",
       "         4.0000e+01],\n",
       "        [3.0000e+00, 1.0000e+00, 1.0000e+00,  ..., 5.0000e+00, 2.7000e+01,\n",
       "         3.2000e+01],\n",
       "        ...,\n",
       "        [1.7377e+04, 3.1000e+01, 1.0000e+00,  ..., 7.0000e+00, 8.3000e+01,\n",
       "         9.0000e+01],\n",
       "        [1.7378e+04, 3.1000e+01, 1.0000e+00,  ..., 1.3000e+01, 4.8000e+01,\n",
       "         6.1000e+01],\n",
       "        [1.7379e+04, 3.1000e+01, 1.0000e+00,  ..., 1.2000e+01, 3.7000e+01,\n",
       "         4.9000e+01]])"
      ]
     },
     "execution_count": 22,
     "metadata": {
      "tags": []
     },
     "output_type": "execute_result"
    }
   ],
   "source": [
    "bikes = torch.from_numpy(bikes_numpy)\n",
    "bikes"
   ]
  },
  {
   "cell_type": "code",
   "execution_count": null,
   "metadata": {
    "colab": {
     "base_uri": "https://localhost:8080/",
     "height": 34
    },
    "colab_type": "code",
    "executionInfo": {
     "elapsed": 1015,
     "status": "ok",
     "timestamp": 1597671036250,
     "user": {
      "displayName": "Adhish Aggarwal",
      "photoUrl": "",
      "userId": "17665034220905964527"
     },
     "user_tz": -330
    },
    "id": "rYWZ-LIBj37D",
    "outputId": "e04490ec-6475-49d0-f852-99e84b2a8eda"
   },
   "outputs": [
    {
     "data": {
      "text/plain": [
       "(torch.Size([17520, 17]), (17, 1))"
      ]
     },
     "execution_count": 24,
     "metadata": {
      "tags": []
     },
     "output_type": "execute_result"
    }
   ],
   "source": [
    "bikes.shape, bikes.stride()\n"
   ]
  },
  {
   "cell_type": "markdown",
   "metadata": {
    "colab_type": "text",
    "id": "5ffKviJYPS2E"
   },
   "source": [
    "### EXCERCISE"
   ]
  },
  {
   "cell_type": "code",
   "execution_count": null,
   "metadata": {
    "colab": {
     "base_uri": "https://localhost:8080/",
     "height": 221
    },
    "colab_type": "code",
    "executionInfo": {
     "elapsed": 978,
     "status": "ok",
     "timestamp": 1597731733903,
     "user": {
      "displayName": "Adhish Aggarwal",
      "photoUrl": "",
      "userId": "17665034220905964527"
     },
     "user_tz": -330
    },
    "id": "dvvxTZFpnT-Y",
    "outputId": "b7e208ef-3756-43cd-e8bd-90103dedc5bd"
   },
   "outputs": [
    {
     "name": "stdout",
     "output_type": "stream",
     "text": [
      "\n",
      " blue\n",
      "torch.Size([615, 615, 3])\n",
      "MEAN tensor(137.0418)\n",
      "\n",
      " red\n",
      "torch.Size([408, 612, 3])\n",
      "MEAN tensor(60.7569)\n",
      "\n",
      " green\n",
      "torch.Size([975, 1300, 3])\n",
      "MEAN tensor(87.3491)\n"
     ]
    }
   ],
   "source": [
    "path_ = \"/content/\"\n",
    "\n",
    "for i in [\"blue\", \"red\", \"green\"]:\n",
    "  image_ = imageio.imread(path_ + i + \".jpg\")\n",
    "  image_tensor = torch.from_numpy(image_).to(dtype=torch.float32)\n",
    "  print(\"\\n\", i)\n",
    "  print(image_tensor.shape)\n",
    "  print(\"MEAN\", image_tensor.mean())\n",
    "\n"
   ]
  },
  {
   "cell_type": "code",
   "execution_count": null,
   "metadata": {
    "colab": {},
    "colab_type": "code",
    "id": "sNIolQUEbV7D"
   },
   "outputs": [],
   "source": []
  }
 ],
 "metadata": {
  "colab": {
   "authorship_tag": "ABX9TyPkBscWYBXGYrz1/qUXoZzf",
   "collapsed_sections": [],
   "mount_file_id": "1TMRAAjfobTkOowLhJ-8zaWIkrmaZ93WW",
   "name": "ch_4.ipynb",
   "provenance": [],
   "toc_visible": true
  },
  "kernelspec": {
   "display_name": "Python 3",
   "language": "python",
   "name": "python3"
  },
  "language_info": {
   "codemirror_mode": {
    "name": "ipython",
    "version": 3
   },
   "file_extension": ".py",
   "mimetype": "text/x-python",
   "name": "python",
   "nbconvert_exporter": "python",
   "pygments_lexer": "ipython3",
   "version": "3.6.9"
  }
 },
 "nbformat": 4,
 "nbformat_minor": 4
}
